{
 "cells": [
  {
   "cell_type": "code",
   "execution_count": 1,
   "id": "b0fb3ef6-e167-4edd-a79a-7b6c7d0eba5a",
   "metadata": {},
   "outputs": [
    {
     "name": "stderr",
     "output_type": "stream",
     "text": [
      "2023-11-04 11:04:41.927447: W tensorflow/stream_executor/platform/default/dso_loader.cc:64] Could not load dynamic library 'libcudart.so.11.0'; dlerror: libcudart.so.11.0: cannot open shared object file: No such file or directory\n",
      "2023-11-04 11:04:41.927472: I tensorflow/stream_executor/cuda/cudart_stub.cc:29] Ignore above cudart dlerror if you do not have a GPU set up on your machine.\n",
      "2023-11-04 11:04:44.551986: W tensorflow/stream_executor/platform/default/dso_loader.cc:64] Could not load dynamic library 'libcuda.so.1'; dlerror: libcuda.so.1: cannot open shared object file: No such file or directory\n",
      "2023-11-04 11:04:44.552009: W tensorflow/stream_executor/cuda/cuda_driver.cc:269] failed call to cuInit: UNKNOWN ERROR (303)\n",
      "2023-11-04 11:04:44.552024: I tensorflow/stream_executor/cuda/cuda_diagnostics.cc:156] kernel driver does not appear to be running on this host (paanduv-Modern-14-B5M): /proc/driver/nvidia/version does not exist\n",
      "2023-11-04 11:04:44.552239: I tensorflow/core/platform/cpu_feature_guard.cc:151] This TensorFlow binary is optimized with oneAPI Deep Neural Network Library (oneDNN) to use the following CPU instructions in performance-critical operations:  AVX2 FMA\n",
      "To enable them in other operations, rebuild TensorFlow with the appropriate compiler flags.\n"
     ]
    }
   ],
   "source": [
    "import tensorflow as tf\n",
    "import numpy as np\n",
    "from sklearn.model_selection import train_test_split \n",
    "import tensorflow_quantum as tfq\n",
    "import cirq\n",
    "import sympy\n",
    "from cirq.contrib.svg import SVGCircuit\n",
    "import matplotlib.pyplot as plt\n",
    "import pandas as pd"
   ]
  },
  {
   "cell_type": "code",
   "execution_count": 2,
   "id": "b11ca32e-823e-45db-a1ef-c24dbb7aaa54",
   "metadata": {},
   "outputs": [],
   "source": [
    "df = pd.read_csv ('iris.data', names = ['f1', 'f2', 'f3', 'f4', 'class'], header = None)\n"
   ]
  },
  {
   "cell_type": "code",
   "execution_count": 3,
   "id": "d33a8e62-8167-489d-bb00-48871c318b7b",
   "metadata": {},
   "outputs": [
    {
     "data": {
      "text/html": [
       "<div>\n",
       "<style scoped>\n",
       "    .dataframe tbody tr th:only-of-type {\n",
       "        vertical-align: middle;\n",
       "    }\n",
       "\n",
       "    .dataframe tbody tr th {\n",
       "        vertical-align: top;\n",
       "    }\n",
       "\n",
       "    .dataframe thead th {\n",
       "        text-align: right;\n",
       "    }\n",
       "</style>\n",
       "<table border=\"1\" class=\"dataframe\">\n",
       "  <thead>\n",
       "    <tr style=\"text-align: right;\">\n",
       "      <th></th>\n",
       "      <th>f1</th>\n",
       "      <th>f2</th>\n",
       "      <th>f3</th>\n",
       "      <th>f4</th>\n",
       "      <th>class</th>\n",
       "    </tr>\n",
       "  </thead>\n",
       "  <tbody>\n",
       "    <tr>\n",
       "      <th>0</th>\n",
       "      <td>5.1</td>\n",
       "      <td>3.5</td>\n",
       "      <td>1.4</td>\n",
       "      <td>0.2</td>\n",
       "      <td>Iris-setosa</td>\n",
       "    </tr>\n",
       "    <tr>\n",
       "      <th>1</th>\n",
       "      <td>4.9</td>\n",
       "      <td>3.0</td>\n",
       "      <td>1.4</td>\n",
       "      <td>0.2</td>\n",
       "      <td>Iris-setosa</td>\n",
       "    </tr>\n",
       "    <tr>\n",
       "      <th>2</th>\n",
       "      <td>4.7</td>\n",
       "      <td>3.2</td>\n",
       "      <td>1.3</td>\n",
       "      <td>0.2</td>\n",
       "      <td>Iris-setosa</td>\n",
       "    </tr>\n",
       "    <tr>\n",
       "      <th>3</th>\n",
       "      <td>4.6</td>\n",
       "      <td>3.1</td>\n",
       "      <td>1.5</td>\n",
       "      <td>0.2</td>\n",
       "      <td>Iris-setosa</td>\n",
       "    </tr>\n",
       "    <tr>\n",
       "      <th>4</th>\n",
       "      <td>5.0</td>\n",
       "      <td>3.6</td>\n",
       "      <td>1.4</td>\n",
       "      <td>0.2</td>\n",
       "      <td>Iris-setosa</td>\n",
       "    </tr>\n",
       "    <tr>\n",
       "      <th>...</th>\n",
       "      <td>...</td>\n",
       "      <td>...</td>\n",
       "      <td>...</td>\n",
       "      <td>...</td>\n",
       "      <td>...</td>\n",
       "    </tr>\n",
       "    <tr>\n",
       "      <th>145</th>\n",
       "      <td>6.7</td>\n",
       "      <td>3.0</td>\n",
       "      <td>5.2</td>\n",
       "      <td>2.3</td>\n",
       "      <td>Iris-virginica</td>\n",
       "    </tr>\n",
       "    <tr>\n",
       "      <th>146</th>\n",
       "      <td>6.3</td>\n",
       "      <td>2.5</td>\n",
       "      <td>5.0</td>\n",
       "      <td>1.9</td>\n",
       "      <td>Iris-virginica</td>\n",
       "    </tr>\n",
       "    <tr>\n",
       "      <th>147</th>\n",
       "      <td>6.5</td>\n",
       "      <td>3.0</td>\n",
       "      <td>5.2</td>\n",
       "      <td>2.0</td>\n",
       "      <td>Iris-virginica</td>\n",
       "    </tr>\n",
       "    <tr>\n",
       "      <th>148</th>\n",
       "      <td>6.2</td>\n",
       "      <td>3.4</td>\n",
       "      <td>5.4</td>\n",
       "      <td>2.3</td>\n",
       "      <td>Iris-virginica</td>\n",
       "    </tr>\n",
       "    <tr>\n",
       "      <th>149</th>\n",
       "      <td>5.9</td>\n",
       "      <td>3.0</td>\n",
       "      <td>5.1</td>\n",
       "      <td>1.8</td>\n",
       "      <td>Iris-virginica</td>\n",
       "    </tr>\n",
       "  </tbody>\n",
       "</table>\n",
       "<p>150 rows × 5 columns</p>\n",
       "</div>"
      ],
      "text/plain": [
       "      f1   f2   f3   f4           class\n",
       "0    5.1  3.5  1.4  0.2     Iris-setosa\n",
       "1    4.9  3.0  1.4  0.2     Iris-setosa\n",
       "2    4.7  3.2  1.3  0.2     Iris-setosa\n",
       "3    4.6  3.1  1.5  0.2     Iris-setosa\n",
       "4    5.0  3.6  1.4  0.2     Iris-setosa\n",
       "..   ...  ...  ...  ...             ...\n",
       "145  6.7  3.0  5.2  2.3  Iris-virginica\n",
       "146  6.3  2.5  5.0  1.9  Iris-virginica\n",
       "147  6.5  3.0  5.2  2.0  Iris-virginica\n",
       "148  6.2  3.4  5.4  2.3  Iris-virginica\n",
       "149  5.9  3.0  5.1  1.8  Iris-virginica\n",
       "\n",
       "[150 rows x 5 columns]"
      ]
     },
     "execution_count": 3,
     "metadata": {},
     "output_type": "execute_result"
    }
   ],
   "source": [
    "df"
   ]
  },
  {
   "cell_type": "code",
   "execution_count": 4,
   "id": "70aa9258-f071-45e5-b59c-4c41ad01d007",
   "metadata": {},
   "outputs": [],
   "source": [
    "\n",
    "from sklearn.model_selection import train_test_split, GridSearchCV\n",
    "from sklearn.preprocessing import OneHotEncoder, LabelEncoder, StandardScaler"
   ]
  },
  {
   "cell_type": "code",
   "execution_count": 5,
   "id": "19384a2e-c974-4dd6-8200-cc6b87bb6709",
   "metadata": {},
   "outputs": [
    {
     "name": "stdout",
     "output_type": "stream",
     "text": [
      "\u001b[33mDEPRECATION: distro-info 0.23ubuntu1 has a non-standard version number. pip 24.0 will enforce this behaviour change. A possible replacement is to upgrade to a newer version of distro-info or contact the author to suggest that they release a version with a conforming version number. Discussion can be found at https://github.com/pypa/pip/issues/12063\u001b[0m\u001b[33m\n",
      "\u001b[0m\u001b[33mDEPRECATION: python-debian 0.1.36ubuntu1 has a non-standard version number. pip 24.0 will enforce this behaviour change. A possible replacement is to upgrade to a newer version of python-debian or contact the author to suggest that they release a version with a conforming version number. Discussion can be found at https://github.com/pypa/pip/issues/12063\u001b[0m\u001b[33m\n",
      "\u001b[0m\u001b[33mDEPRECATION: distro-info 0.23ubuntu1 has a non-standard version number. pip 24.0 will enforce this behaviour change. A possible replacement is to upgrade to a newer version of distro-info or contact the author to suggest that they release a version with a conforming version number. Discussion can be found at https://github.com/pypa/pip/issues/12063\u001b[0m\u001b[33m\n",
      "\u001b[0m\u001b[33mDEPRECATION: python-debian 0.1.36ubuntu1 has a non-standard version number. pip 24.0 will enforce this behaviour change. A possible replacement is to upgrade to a newer version of python-debian or contact the author to suggest that they release a version with a conforming version number. Discussion can be found at https://github.com/pypa/pip/issues/12063\u001b[0m\u001b[33m\n",
      "\u001b[0m\u001b[33mDEPRECATION: distro-info 0.23ubuntu1 has a non-standard version number. pip 24.0 will enforce this behaviour change. A possible replacement is to upgrade to a newer version of distro-info or contact the author to suggest that they release a version with a conforming version number. Discussion can be found at https://github.com/pypa/pip/issues/12063\u001b[0m\u001b[33m\n",
      "\u001b[0m\u001b[33mDEPRECATION: python-debian 0.1.36ubuntu1 has a non-standard version number. pip 24.0 will enforce this behaviour change. A possible replacement is to upgrade to a newer version of python-debian or contact the author to suggest that they release a version with a conforming version number. Discussion can be found at https://github.com/pypa/pip/issues/12063\u001b[0m\u001b[33m\n",
      "\u001b[0m"
     ]
    }
   ],
   "source": [
    "!pip install pennylane >> /dev/null\n",
    "!pip install strawberryfields >> /dev/null\n",
    "!pip install PennyLane-SF >> /dev/null"
   ]
  },
  {
   "cell_type": "code",
   "execution_count": 6,
   "id": "849068e4-5fe4-4ad4-a726-c585b310acef",
   "metadata": {},
   "outputs": [
    {
     "name": "stdout",
     "output_type": "stream",
     "text": [
      "Shape of Input  features: (150, 4)\n",
      "Shape of Output features: (150,)\n"
     ]
    }
   ],
   "source": [
    "Y = df['class']\n",
    "X = df.drop(['class'], axis=1)\n",
    "print(\"Shape of Input  features: {}\".format(X.shape))\n",
    "print(\"Shape of Output features: {}\".format(Y.shape))"
   ]
  },
  {
   "cell_type": "code",
   "execution_count": 7,
   "id": "ecbdb073-267f-4f4b-a6eb-da3c540b7313",
   "metadata": {},
   "outputs": [
    {
     "data": {
      "text/plain": [
       "class\n",
       "Iris-setosa        50\n",
       "Iris-versicolor    50\n",
       "Iris-virginica     50\n",
       "Name: count, dtype: int64"
      ]
     },
     "execution_count": 7,
     "metadata": {},
     "output_type": "execute_result"
    }
   ],
   "source": [
    "Y.value_counts()"
   ]
  },
  {
   "cell_type": "code",
   "execution_count": 8,
   "id": "c16b44a2-d8d5-4d7c-ab72-aa123b9a40eb",
   "metadata": {},
   "outputs": [],
   "source": [
    "\n",
    "\n",
    "lbl_clf = LabelEncoder()\n",
    "Y_encoded = lbl_clf.fit_transform(Y)\n",
    "     \n"
   ]
  },
  {
   "cell_type": "code",
   "execution_count": 9,
   "id": "a2910332-6d68-4292-a180-ff5382bf8eb9",
   "metadata": {},
   "outputs": [],
   "source": [
    "\n",
    "\n",
    "def one_hot(labels):  \n",
    "       \n",
    "    depth =  4**2                       # 3 classes + 13 zeros for padding\n",
    "    indices = labels.astype(np.int64)    \n",
    "    one_hot_labels = np.eye(depth)[indices].astype(np.float64) \n",
    "    \n",
    "    return one_hot_labels\n",
    "\n",
    "\n",
    "Y_train = one_hot(Y_encoded)\n",
    "     \n"
   ]
  },
  {
   "cell_type": "code",
   "execution_count": 10,
   "id": "9e5c9809-231e-4b79-8786-8d87efa002c3",
   "metadata": {},
   "outputs": [
    {
     "name": "stdout",
     "output_type": "stream",
     "text": [
      "Training Input shape\t: (142, 4)\n",
      "Testing Input shape\t: (8, 4)\n",
      "Training Output shape\t: (142, 16)\n",
      "Testing Output shape\t: (8, 16)\n"
     ]
    }
   ],
   "source": [
    "\n",
    "\n",
    "x_train, x_test, y_train, y_test = train_test_split(X, Y_train, test_size=0.05, random_state=42, stratify=Y_encoded, shuffle=True)\n",
    "\n",
    "print(\"Training Input shape\\t: {}\".format(x_train.shape))\n",
    "print(\"Testing Input shape\\t: {}\".format(x_test.shape))\n",
    "print(\"Training Output shape\\t: {}\".format(y_train.shape))\n",
    "print(\"Testing Output shape\\t: {}\".format(y_test.shape))\n",
    "     \n"
   ]
  },
  {
   "cell_type": "code",
   "execution_count": 11,
   "id": "7ce60f08-e2ba-4ce2-b9e3-10d944b43807",
   "metadata": {},
   "outputs": [],
   "source": [
    "from tensorflow import keras\n",
    "from tensorflow.keras import layers"
   ]
  },
  {
   "cell_type": "code",
   "execution_count": 12,
   "id": "a2786324-8d94-460a-835e-74e3bef45e72",
   "metadata": {},
   "outputs": [
    {
     "name": "stdout",
     "output_type": "stream",
     "text": [
      "Model: \"sequential\"\n",
      "_________________________________________________________________\n",
      " Layer (type)                Output Shape              Param #   \n",
      "=================================================================\n",
      " dense (Dense)               (None, 14)                70        \n",
      "                                                                 \n",
      " dense_1 (Dense)             (None, 14)                210       \n",
      "                                                                 \n",
      "=================================================================\n",
      "Total params: 280\n",
      "Trainable params: 280\n",
      "Non-trainable params: 0\n",
      "_________________________________________________________________\n"
     ]
    }
   ],
   "source": [
    "\n",
    "keras.backend.set_floatx('float64')\n",
    "\n",
    "model = keras.models.Sequential([\n",
    "                                 layers.Dense(14, activation =\"elu\", input_shape=(4,)),\n",
    "                                 layers.Dense(14, activation =\"elu\") \n",
    "                                ])\n",
    "\n",
    "model.summary()"
   ]
  },
  {
   "cell_type": "code",
   "execution_count": 13,
   "id": "2ff2a401-1872-4098-8f5d-9b3cbdc12a61",
   "metadata": {},
   "outputs": [],
   "source": [
    "import pennylane as qml"
   ]
  },
  {
   "cell_type": "code",
   "execution_count": 14,
   "id": "7a1038e2-9cb0-4ef4-a838-7e221f3f08c8",
   "metadata": {},
   "outputs": [],
   "source": [
    "def data_encoding(x):\n",
    "    qml.Squeezing(x[3], x[4], wires=0)\n",
    "    qml.Squeezing(x[9], x[10], wires=1)\n",
    "    \n",
    "    qml.Beamsplitter(x[5], x[6], wires=[0,1])\n",
    "    \n",
    "    qml.Rotation(x[7], wires=0)\n",
    "    qml.Rotation(x[8], wires=1)\n",
    "    \n",
    "    qml.Displacement(x[1], x[2], wires=0)\n",
    "    qml.Displacement(x[11], x[12], wires=1)\n",
    "    \n",
    "    qml.Kerr(x[0], wires=0)\n",
    "    qml.Kerr(x[13], wires=1)"
   ]
  },
  {
   "cell_type": "code",
   "execution_count": 15,
   "id": "8de0edf2-146e-4835-9b08-aa8951acd7d5",
   "metadata": {},
   "outputs": [],
   "source": [
    "\n",
    "def qnn_layer(v):\n",
    "    qml.Beamsplitter(v[0], v[1], wires=[0,1])\n",
    "    qml.Rotation(v[2], wires=0)\n",
    "    qml.Rotation(v[3], wires=1)\n",
    "    \n",
    "    qml.Squeezing(v[4], 0.0, wires=0)\n",
    "    qml.Squeezing(v[5], 0.0, wires=1)\n",
    "    \n",
    "    qml.Beamsplitter(v[6], v[7], wires=[0,1])\n",
    "    qml.Rotation(v[8], wires=0)\n",
    "    qml.Rotation(v[9], wires=1)\n",
    "    \n",
    "    qml.Displacement(v[10], 0.0, wires=0)\n",
    "    qml.Displacement(v[11], 0.0, wires=1)\n",
    "    \n",
    "    qml.Kerr(v[12], wires=0)\n",
    "    qml.Kerr(v[13], wires=1)"
   ]
  },
  {
   "cell_type": "code",
   "execution_count": 16,
   "id": "0497f191-8f44-433d-9dcf-1faead61cec7",
   "metadata": {},
   "outputs": [],
   "source": [
    "\n",
    "\n",
    "def init_weights(layers, modes, active_sd=0.0001, passive_sd=0.1):\n",
    "    \n",
    "    M = 2 + 1 + 1  \n",
    "\n",
    "    int1_weights = tf.random.normal(shape=[layers, M], stddev=passive_sd)\n",
    "    s_weights = tf.random.normal(shape=[layers, modes], stddev=active_sd)\n",
    "    int2_weights = tf.random.normal(shape=[layers, M], stddev=passive_sd)\n",
    "    dr_weights = tf.random.normal(shape=[layers, modes], stddev=active_sd)\n",
    "    k_weights = tf.random.normal(shape=[layers, modes], stddev=active_sd)\n",
    "\n",
    "    weights = tf.concat([int1_weights, s_weights, int2_weights, dr_weights, k_weights], axis=1)\n",
    "    weights = tf.Variable(weights)\n",
    "\n",
    "    return weights\n",
    "     \n"
   ]
  },
  {
   "cell_type": "code",
   "execution_count": 17,
   "id": "2e919f3f-6bcc-4432-b803-37818dc9ac5d",
   "metadata": {},
   "outputs": [],
   "source": [
    "num_modes = 2\n",
    "cutoff_dim = 4\n",
    "\n",
    "# select a devide \n",
    "dev = qml.device(\"strawberryfields.fock\", wires=num_modes, cutoff_dim=cutoff_dim) \n",
    "\n",
    "@qml.qnode(dev, interface=\"tf\")\n",
    "def quantum_nn(inputs, var):\n",
    "    data_encoding(inputs)\n",
    "\n",
    "    for v in var:\n",
    "        qnn_layer(v)\n",
    "\n",
    "    return qml.probs(wires=[0, 1])"
   ]
  },
  {
   "cell_type": "code",
   "execution_count": 18,
   "id": "b2384b08-6b42-4606-a8a8-4b20814e55b5",
   "metadata": {},
   "outputs": [],
   "source": [
    "\n",
    "num_layers = 4\n",
    "\n",
    "weigths = init_weights(num_layers, num_modes)\n",
    "\n",
    "shape_tup = weigths.shape\n",
    "weight_shapes = {'var': shape_tup}\n",
    "qlayer = qml.qnn.KerasLayer(quantum_nn, weight_shapes, output_dim=4)\n",
    "\n",
    "model.add(qlayer)"
   ]
  },
  {
   "cell_type": "code",
   "execution_count": 19,
   "id": "80c38442-1145-4335-b623-28059aa87b99",
   "metadata": {},
   "outputs": [
    {
     "name": "stderr",
     "output_type": "stream",
     "text": [
      "/home/paanduv/.local/lib/python3.8/site-packages/keras/optimizer_v2/gradient_descent.py:102: UserWarning: The `lr` argument is deprecated, use `learning_rate` instead.\n"
     ]
    }
   ],
   "source": [
    "opt = keras.optimizers.SGD(lr = 0.002)\n",
    "model.compile(opt, loss = 'categorical_crossentropy', metrics =['accuracy'])"
   ]
  },
  {
   "cell_type": "code",
   "execution_count": null,
   "id": "1f8c11a5-7174-40a6-81b0-f717e562e1b8",
   "metadata": {},
   "outputs": [
    {
     "name": "stdout",
     "output_type": "stream",
     "text": [
      "Epoch 1/50\n",
      "3/3 [==============================] - 54s 14s/step - loss: 2.0472 - accuracy: 0.3732 - val_loss: 1.7146 - val_accuracy: 0.6250\n",
      "Epoch 2/50\n",
      "3/3 [==============================] - 52s 14s/step - loss: 1.8982 - accuracy: 0.4155 - val_loss: 1.7808 - val_accuracy: 0.3750\n",
      "Epoch 3/50\n",
      "3/3 [==============================] - 51s 14s/step - loss: 1.8871 - accuracy: 0.3873 - val_loss: 1.8878 - val_accuracy: 0.3750\n",
      "Epoch 4/50\n",
      "3/3 [==============================] - 51s 14s/step - loss: 1.8149 - accuracy: 0.4014 - val_loss: 1.4698 - val_accuracy: 0.6250\n",
      "Epoch 5/50\n",
      "3/3 [==============================] - 50s 14s/step - loss: 1.5061 - accuracy: 0.7324 - val_loss: 1.4060 - val_accuracy: 0.7500\n",
      "Epoch 6/50\n",
      "3/3 [==============================] - 50s 14s/step - loss: 1.4393 - accuracy: 0.7958 - val_loss: 1.3572 - val_accuracy: 0.8750\n",
      "Epoch 7/50\n",
      "3/3 [==============================] - 50s 14s/step - loss: 1.3896 - accuracy: 0.8169 - val_loss: 1.3147 - val_accuracy: 0.8750\n",
      "Epoch 8/50\n",
      "3/3 [==============================] - 51s 14s/step - loss: 1.3457 - accuracy: 0.7746 - val_loss: 1.3127 - val_accuracy: 0.8750\n",
      "Epoch 9/50\n",
      "3/3 [==============================] - 50s 14s/step - loss: 1.3097 - accuracy: 0.7887 - val_loss: 1.2508 - val_accuracy: 1.0000\n",
      "Epoch 10/50\n",
      "3/3 [==============================] - 50s 14s/step - loss: 1.2678 - accuracy: 0.7746 - val_loss: 1.2103 - val_accuracy: 1.0000\n",
      "Epoch 11/50\n",
      "3/3 [==============================] - 51s 14s/step - loss: 1.2290 - accuracy: 0.7676 - val_loss: 1.1825 - val_accuracy: 1.0000\n",
      "Epoch 12/50\n",
      "3/3 [==============================] - 51s 14s/step - loss: 1.1947 - accuracy: 0.7465 - val_loss: 1.1677 - val_accuracy: 1.0000\n",
      "Epoch 13/50\n",
      "3/3 [==============================] - 50s 14s/step - loss: 1.1682 - accuracy: 0.7394 - val_loss: 1.1328 - val_accuracy: 1.0000\n",
      "Epoch 14/50\n",
      "3/3 [==============================] - 51s 14s/step - loss: 1.1447 - accuracy: 0.7324 - val_loss: 1.1102 - val_accuracy: 0.7500\n",
      "Epoch 15/50\n",
      "3/3 [==============================] - 51s 14s/step - loss: 1.1242 - accuracy: 0.7042 - val_loss: 1.0991 - val_accuracy: 1.0000\n",
      "Epoch 16/50\n",
      "3/3 [==============================] - 51s 14s/step - loss: 1.1023 - accuracy: 0.7113 - val_loss: 1.0783 - val_accuracy: 0.6250\n",
      "Epoch 17/50\n",
      "3/3 [==============================] - 51s 14s/step - loss: 1.0874 - accuracy: 0.7254 - val_loss: 1.0674 - val_accuracy: 0.8750\n",
      "Epoch 18/50\n",
      "3/3 [==============================] - 52s 14s/step - loss: 1.0631 - accuracy: 0.7183 - val_loss: 1.0472 - val_accuracy: 0.6250\n",
      "Epoch 19/50\n",
      "3/3 [==============================] - 51s 14s/step - loss: 1.0585 - accuracy: 0.7465 - val_loss: 1.0470 - val_accuracy: 1.0000\n",
      "Epoch 20/50\n",
      "3/3 [==============================] - 51s 14s/step - loss: 1.0360 - accuracy: 0.7465 - val_loss: 1.0123 - val_accuracy: 0.7500\n",
      "Epoch 21/50\n",
      "3/3 [==============================] - 51s 14s/step - loss: 1.0246 - accuracy: 0.7183 - val_loss: 1.0169 - val_accuracy: 1.0000\n",
      "Epoch 22/50\n",
      "3/3 [==============================] - 51s 14s/step - loss: 1.0168 - accuracy: 0.7394 - val_loss: 1.0423 - val_accuracy: 0.6250\n",
      "Epoch 23/50\n",
      "3/3 [==============================] - 51s 14s/step - loss: 1.0376 - accuracy: 0.7465 - val_loss: 1.0022 - val_accuracy: 1.0000\n",
      "Epoch 24/50\n",
      "3/3 [==============================] - 52s 14s/step - loss: 0.9849 - accuracy: 0.7465 - val_loss: 0.9621 - val_accuracy: 0.6250\n",
      "Epoch 25/50\n",
      "3/3 [==============================] - 52s 14s/step - loss: 0.9818 - accuracy: 0.7254 - val_loss: 0.9871 - val_accuracy: 0.8750\n",
      "Epoch 26/50\n",
      "3/3 [==============================] - 51s 14s/step - loss: 0.9944 - accuracy: 0.7254 - val_loss: 0.9424 - val_accuracy: 0.7500\n",
      "Epoch 27/50\n",
      "3/3 [==============================] - 50s 14s/step - loss: 0.9539 - accuracy: 0.7324 - val_loss: 0.9386 - val_accuracy: 0.6250\n",
      "Epoch 28/50\n",
      "3/3 [==============================] - 51s 14s/step - loss: 0.9479 - accuracy: 0.7183 - val_loss: 0.9551 - val_accuracy: 0.8750\n",
      "Epoch 29/50\n",
      "3/3 [==============================] - 50s 14s/step - loss: 0.9424 - accuracy: 0.7465 - val_loss: 0.9069 - val_accuracy: 0.7500\n",
      "Epoch 30/50\n",
      "3/3 [==============================] - 51s 14s/step - loss: 0.9194 - accuracy: 0.6901 - val_loss: 0.9077 - val_accuracy: 1.0000\n",
      "Epoch 31/50\n",
      "3/3 [==============================] - 50s 14s/step - loss: 0.9166 - accuracy: 0.7254 - val_loss: 0.8910 - val_accuracy: 1.0000\n",
      "Epoch 32/50\n",
      "3/3 [==============================] - 51s 14s/step - loss: 0.9018 - accuracy: 0.7042 - val_loss: 0.8802 - val_accuracy: 0.7500\n",
      "Epoch 33/50\n",
      "3/3 [==============================] - 51s 14s/step - loss: 0.9021 - accuracy: 0.7113 - val_loss: 0.8857 - val_accuracy: 1.0000\n",
      "Epoch 34/50\n",
      "3/3 [==============================] - 52s 14s/step - loss: 0.9074 - accuracy: 0.7465 - val_loss: 0.8642 - val_accuracy: 1.0000\n",
      "Epoch 35/50\n",
      "3/3 [==============================] - 51s 14s/step - loss: 0.8811 - accuracy: 0.7183 - val_loss: 0.8671 - val_accuracy: 0.6250\n",
      "Epoch 36/50\n",
      "3/3 [==============================] - 51s 14s/step - loss: 0.8912 - accuracy: 0.7606 - val_loss: 0.8529 - val_accuracy: 1.0000\n",
      "Epoch 37/50\n",
      "3/3 [==============================] - 51s 14s/step - loss: 0.8727 - accuracy: 0.7254 - val_loss: 0.8466 - val_accuracy: 0.7500\n",
      "Epoch 38/50\n",
      "3/3 [==============================] - 51s 14s/step - loss: 0.8646 - accuracy: 0.7042 - val_loss: 0.8338 - val_accuracy: 1.0000\n",
      "Epoch 39/50\n",
      "3/3 [==============================] - 51s 14s/step - loss: 0.8556 - accuracy: 0.7254 - val_loss: 0.8485 - val_accuracy: 1.0000\n",
      "Epoch 40/50\n",
      "3/3 [==============================] - 52s 14s/step - loss: 0.8498 - accuracy: 0.7042 - val_loss: 0.8475 - val_accuracy: 1.0000\n",
      "Epoch 41/50\n",
      "3/3 [==============================] - 53s 15s/step - loss: 0.8506 - accuracy: 0.7324 - val_loss: 0.8342 - val_accuracy: 0.6250\n",
      "Epoch 42/50\n",
      "3/3 [==============================] - 53s 14s/step - loss: 0.8528 - accuracy: 0.7324 - val_loss: 0.8512 - val_accuracy: 1.0000\n",
      "Epoch 43/50\n",
      "3/3 [==============================] - 55s 15s/step - loss: 0.8669 - accuracy: 0.7324 - val_loss: 0.9287 - val_accuracy: 0.6250\n",
      "Epoch 44/50\n",
      "3/3 [==============================] - 53s 15s/step - loss: 0.9117 - accuracy: 0.7746 - val_loss: 0.8161 - val_accuracy: 1.0000\n",
      "Epoch 45/50\n",
      "3/3 [==============================] - 54s 15s/step - loss: 0.8341 - accuracy: 0.7746 - val_loss: 0.8749 - val_accuracy: 0.6250\n",
      "Epoch 46/50\n",
      "3/3 [==============================] - 51s 14s/step - loss: 0.8779 - accuracy: 0.7817 - val_loss: 0.8237 - val_accuracy: 1.0000\n",
      "Epoch 47/50\n",
      "1/3 [=========>....................] - ETA: 46s - loss: 0.8520 - accuracy: 0.7812"
     ]
    }
   ],
   "source": [
    "\n",
    "\n",
    "hybrid = model.fit(x_train, \n",
    "                   y_train,\n",
    "                   epochs = 50,\n",
    "                   batch_size = 64,\n",
    "                   shuffle = True, \n",
    "                   validation_data = (x_test, y_test))\n",
    "     \n"
   ]
  },
  {
   "cell_type": "code",
   "execution_count": 23,
   "id": "8cd280d2-aa08-41b6-838c-434a8a5c360d",
   "metadata": {},
   "outputs": [
    {
     "name": "stdout",
     "output_type": "stream",
     "text": [
      "Model: \"sequential\"\n",
      "_________________________________________________________________\n",
      " Layer (type)                Output Shape              Param #   \n",
      "=================================================================\n",
      " dense (Dense)               (None, 14)                70        \n",
      "                                                                 \n",
      " dense_1 (Dense)             (None, 14)                210       \n",
      "                                                                 \n",
      " keras_layer (KerasLayer)    (None, 4)                 56        \n",
      "                                                                 \n",
      "=================================================================\n",
      "Total params: 336\n",
      "Trainable params: 336\n",
      "Non-trainable params: 0\n",
      "_________________________________________________________________\n"
     ]
    }
   ],
   "source": [
    "model.summary()"
   ]
  },
  {
   "cell_type": "code",
   "execution_count": 24,
   "id": "eb45f0b3-0cab-4b10-af53-8ff5b8208128",
   "metadata": {},
   "outputs": [
    {
     "data": {
      "image/png": "[encoded data removed]",
      "text/plain": [
       "<Figure size 640x480 with 1 Axes>"
      ]
     },
     "metadata": {},
     "output_type": "display_data"
    }
   ],
   "source": [
    "plt.title('train loss')\n",
    "plt.plot(hybrid.history['loss'], '-g')\n",
    "plt.xlabel('epoch')\n",
    "plt.ylabel('loss')\n",
    "plt.show()"
   ]
  },
  {
   "cell_type": "code",
   "execution_count": 25,
   "id": "a3f1f201-720c-4604-89bb-f34655cd5990",
   "metadata": {},
   "outputs": [
    {
     "data": {
      "image/png": "[encoded data removed]",
      "text/plain": [
       "<Figure size 640x480 with 1 Axes>"
      ]
     },
     "metadata": {},
     "output_type": "display_data"
    }
   ],
   "source": [
    "\n",
    "plt.title('val loss')\n",
    "plt.plot(hybrid.history['val_loss'], '-g')\n",
    "plt.xlabel('epoch')\n",
    "plt.ylabel('loss')\n",
    "plt.show()"
   ]
  },
  {
   "cell_type": "code",
   "execution_count": 26,
   "id": "5c831fc4-8a88-4477-af77-f4bcd29c2f67",
   "metadata": {},
   "outputs": [
    {
     "data": {
      "image/png": "[encoded data removed]",
      "text/plain": [
       "<Figure size 640x480 with 1 Axes>"
      ]
     },
     "metadata": {},
     "output_type": "display_data"
    }
   ],
   "source": [
    "plt.title('train accuracy')\n",
    "plt.plot(hybrid.history['accuracy'], '-g')\n",
    "plt.ylabel('accuracy')\n",
    "plt.show()"
   ]
  },
  {
   "cell_type": "code",
   "execution_count": 27,
   "id": "2c0964ae-6a60-431f-aeca-61a5326f1bae",
   "metadata": {},
   "outputs": [
    {
     "data": {
      "image/png": "[encoded data removed]",
      "text/plain": [
       "<Figure size 640x480 with 1 Axes>"
      ]
     },
     "metadata": {},
     "output_type": "display_data"
    }
   ],
   "source": [
    "plt.title('val accuracy')\n",
    "plt.plot(hybrid.history['val_accuracy'], '-g')\n",
    "plt.ylabel('accuracy')\n",
    "plt.show()"
   ]
  },
  {
   "cell_type": "code",
   "execution_count": null,
   "id": "6b9258ae-bc42-45e4-87ef-7f7680e2cc75",
   "metadata": {},
   "outputs": [],
   "source": []
  }
 ],
 "metadata": {
  "kernelspec": {
   "display_name": "Python 3 (ipykernel)",
   "language": "python",
   "name": "python3"
  },
  "language_info": {
   "codemirror_mode": {
    "name": "ipython",
    "version": 3
   },
   "file_extension": ".py",
   "mimetype": "text/x-python",
   "name": "python",
   "nbconvert_exporter": "python",
   "pygments_lexer": "ipython3",
   "version": "3.8.10"
  }
 },
 "nbformat": 4,
 "nbformat_minor": 5
}
