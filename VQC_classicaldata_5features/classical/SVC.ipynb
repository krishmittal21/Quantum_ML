{
 "cells": [
  {
   "cell_type": "code",
   "execution_count": 1,
   "id": "ecc5c2e5-fa78-432e-ae4b-a23713867829",
   "metadata": {},
   "outputs": [],
   "source": [
    "import pandas as pd\n",
    "import seaborn as sns\n",
    "import matplotlib.pyplot as plt\n",
    "from IPython.display import clear_output\n",
    "import numpy as np\n",
    "import pylatexenc\n",
    "import math\n",
    "from sklearn.preprocessing import MinMaxScaler\n",
    "from sklearn.svm import SVC"
   ]
  },
  {
   "cell_type": "code",
   "execution_count": 2,
   "id": "46f32b33-d4de-4f20-ac14-61676b784108",
   "metadata": {},
   "outputs": [
    {
     "data": {
      "text/html": [
       "<div>\n",
       "<style scoped>\n",
       "    .dataframe tbody tr th:only-of-type {\n",
       "        vertical-align: middle;\n",
       "    }\n",
       "\n",
       "    .dataframe tbody tr th {\n",
       "        vertical-align: top;\n",
       "    }\n",
       "\n",
       "    .dataframe thead th {\n",
       "        text-align: right;\n",
       "    }\n",
       "</style>\n",
       "<table border=\"1\" class=\"dataframe\">\n",
       "  <thead>\n",
       "    <tr style=\"text-align: right;\">\n",
       "      <th></th>\n",
       "      <th>theta_avg_dc</th>\n",
       "      <th>outlet_area</th>\n",
       "      <th>flowrate</th>\n",
       "      <th>dch</th>\n",
       "      <th>dcw</th>\n",
       "      <th>T_delta_mean</th>\n",
       "    </tr>\n",
       "  </thead>\n",
       "  <tbody>\n",
       "    <tr>\n",
       "      <th>0</th>\n",
       "      <td>0</td>\n",
       "      <td>1879.200</td>\n",
       "      <td>18699822</td>\n",
       "      <td>15.300</td>\n",
       "      <td>12</td>\n",
       "      <td>1</td>\n",
       "    </tr>\n",
       "    <tr>\n",
       "      <th>1</th>\n",
       "      <td>90</td>\n",
       "      <td>1879.200</td>\n",
       "      <td>18699822</td>\n",
       "      <td>15.300</td>\n",
       "      <td>12</td>\n",
       "      <td>1</td>\n",
       "    </tr>\n",
       "    <tr>\n",
       "      <th>2</th>\n",
       "      <td>0</td>\n",
       "      <td>3240.000</td>\n",
       "      <td>17358948</td>\n",
       "      <td>9.000</td>\n",
       "      <td>7</td>\n",
       "      <td>0</td>\n",
       "    </tr>\n",
       "    <tr>\n",
       "      <th>3</th>\n",
       "      <td>0</td>\n",
       "      <td>3482.676</td>\n",
       "      <td>14102208</td>\n",
       "      <td>9.333</td>\n",
       "      <td>9</td>\n",
       "      <td>0</td>\n",
       "    </tr>\n",
       "    <tr>\n",
       "      <th>4</th>\n",
       "      <td>0</td>\n",
       "      <td>1879.200</td>\n",
       "      <td>18699822</td>\n",
       "      <td>15.300</td>\n",
       "      <td>12</td>\n",
       "      <td>0</td>\n",
       "    </tr>\n",
       "  </tbody>\n",
       "</table>\n",
       "</div>"
      ],
      "text/plain": [
       "   theta_avg_dc  outlet_area  flowrate     dch  dcw  T_delta_mean\n",
       "0             0     1879.200  18699822  15.300   12             1\n",
       "1            90     1879.200  18699822  15.300   12             1\n",
       "2             0     3240.000  17358948   9.000    7             0\n",
       "3             0     3482.676  14102208   9.333    9             0\n",
       "4             0     1879.200  18699822  15.300   12             0"
      ]
     },
     "execution_count": 2,
     "metadata": {},
     "output_type": "execute_result"
    }
   ],
   "source": [
    "df = pd.read_csv ('dataset.csv')\n",
    "df.head()\n",
    "df = df.drop(['x_std','z_std','y_mean','y_std','theta_std_dc','v_wind', 'theta_wind','dcd','rcp', 'T_wind'], axis=1)\n",
    "df.head()"
   ]
  },
  {
   "cell_type": "code",
   "execution_count": 3,
   "id": "a5397712-3637-4b38-9792-3e2d53fc1c5f",
   "metadata": {},
   "outputs": [],
   "source": [
    "#Prepare the data\n",
    "X = np.array(df[df.columns[0:-1]])\n",
    "X = MinMaxScaler().fit_transform(X)\n",
    "y = np.array(df['T_delta_mean'])"
   ]
  },
  {
   "cell_type": "code",
   "execution_count": 4,
   "id": "f17cdf35-e70d-495a-940d-9e383aceb755",
   "metadata": {},
   "outputs": [],
   "source": [
    "from sklearn.svm import SVC\n",
    "\n",
    "svc = SVC()\n",
    "_ = svc.fit(X, y) "
   ]
  },
  {
   "cell_type": "code",
   "execution_count": 5,
   "id": "73925adb-71db-45d3-8d4b-380319288d78",
   "metadata": {},
   "outputs": [
    {
     "name": "stdout",
     "output_type": "stream",
     "text": [
      "Classical SVC on the training dataset: 0.67\n",
      "Classical SVC on the test dataset:     0.67\n"
     ]
    }
   ],
   "source": [
    "train_score_c4 = svc.score(X, y)\n",
    "test_score_c4 = svc.score(X, y)\n",
    "\n",
    "print(f\"Classical SVC on the training dataset: {train_score_c4:.2f}\")\n",
    "print(f\"Classical SVC on the test dataset:     {test_score_c4:.2f}\")"
   ]
  }
 ],
 "metadata": {
  "kernelspec": {
   "display_name": "Python 3 (ipykernel)",
   "language": "python",
   "name": "python3"
  },
  "language_info": {
   "codemirror_mode": {
    "name": "ipython",
    "version": 3
   },
   "file_extension": ".py",
   "mimetype": "text/x-python",
   "name": "python",
   "nbconvert_exporter": "python",
   "pygments_lexer": "ipython3",
   "version": "3.8.10"
  }
 },
 "nbformat": 4,
 "nbformat_minor": 5
}
