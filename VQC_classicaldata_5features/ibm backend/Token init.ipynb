{
 "cells": [
  {
   "cell_type": "code",
   "execution_count": 1,
   "id": "5c998f7c-236a-4518-a13c-47ad1161d0fe",
   "metadata": {},
   "outputs": [],
   "source": [
    " from qiskit import IBMQ\t"
   ]
  },
  {
   "cell_type": "code",
   "execution_count": 2,
   "id": "eee91f66-4b01-40c8-9533-7ba741931ba5",
   "metadata": {},
   "outputs": [
    {
     "name": "stderr",
     "output_type": "stream",
     "text": [
      "/tmp/ipykernel_15615/996885399.py:1: DeprecationWarning: The package qiskit.providers.ibmq is being deprecated. Please see https://ibm.biz/provider_migration_guide to get instructions on how to migrate to qiskit-ibm-provider (https://github.com/Qiskit/qiskit-ibm-provider) and qiskit-ibm-runtime (https://github.com/Qiskit/qiskit-ibm-runtime).\n",
      "  IBMQ.save_account('c7a25498560dd41ca027175c3afa4f4315b5fca7e8ac74883ecbd5050fa86ae096e0cea19cbab3fb56a3830506b5cea009bcc0f45139532903f0611942b98f2d')\n",
      "/tmp/ipykernel_15615/996885399.py:1: DeprecationWarning: The qiskit.IBMQ entrypoint and the qiskit-ibmq-provider package (accessible from 'qiskit.providers.ibmq`) are deprecated and will be removed in a future release. Instead you should use the qiskit-ibm-provider package which is accessible from 'qiskit_ibm_provider'. You can install it with 'pip install qiskit_ibm_provider'. Just replace 'qiskit.IBMQ' with 'qiskit_ibm_provider.IBMProvider'\n",
      "  IBMQ.save_account('c7a25498560dd41ca027175c3afa4f4315b5fca7e8ac74883ecbd5050fa86ae096e0cea19cbab3fb56a3830506b5cea009bcc0f45139532903f0611942b98f2d')\n"
     ]
    }
   ],
   "source": [
    "IBMQ.save_account('c7a25498560dd41ca027175c3afa4f4315b5fca7e8ac74883ecbd5050fa86ae096e0cea19cbab3fb56a3830506b5cea009bcc0f45139532903f0611942b98f2d')"
   ]
  },
  {
   "cell_type": "code",
   "execution_count": 3,
   "id": "43e4bd7f-5948-425e-a23e-34086fbc0688",
   "metadata": {},
   "outputs": [
    {
     "data": {
      "text/plain": [
       "<AccountProvider for IBMQ(hub='ibm-q', group='open', project='main')>"
      ]
     },
     "execution_count": 3,
     "metadata": {},
     "output_type": "execute_result"
    }
   ],
   "source": [
    "IBMQ.load_account()"
   ]
  },
  {
   "cell_type": "code",
   "execution_count": null,
   "id": "db003e40-a0b0-4cb5-a776-ff0d9a12386c",
   "metadata": {},
   "outputs": [],
   "source": []
  }
 ],
 "metadata": {
  "kernelspec": {
   "display_name": "Python 3 (ipykernel)",
   "language": "python",
   "name": "python3"
  },
  "language_info": {
   "codemirror_mode": {
    "name": "ipython",
    "version": 3
   },
   "file_extension": ".py",
   "mimetype": "text/x-python",
   "name": "python",
   "nbconvert_exporter": "python",
   "pygments_lexer": "ipython3",
   "version": "3.8.10"
  }
 },
 "nbformat": 4,
 "nbformat_minor": 5
}
