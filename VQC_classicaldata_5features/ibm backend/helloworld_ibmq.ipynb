{
 "cells": [
  {
   "cell_type": "code",
   "execution_count": 1,
   "id": "214bb415-c3e7-47ca-a784-6b08ed6c015f",
   "metadata": {},
   "outputs": [],
   "source": [
    "from qiskit_ibm_runtime import QiskitRuntimeService\n",
    "\n",
    "service = QiskitRuntimeService(\n",
    "    channel='ibm_quantum',\n",
    "    instance='ibm-q/open/main',\n",
    "    token='c7a25498560dd41ca027175c3afa4f4315b5fca7e8ac74883ecbd5050fa86ae096e0cea19cbab3fb56a3830506b5cea009bcc0f45139532903f0611942b98f2d'\n",
    ")\n"
   ]
  },
  {
   "cell_type": "code",
   "execution_count": 2,
   "id": "a461ef3b-4ffa-4c6c-a194-e3b37cc76141",
   "metadata": {},
   "outputs": [],
   "source": [
    "from qiskit import QuantumCircuit\n",
    " \n",
    "# Create a new circuit with two qubits (first argument) and two classical\n",
    "# bits (second argument)\n",
    "qc = QuantumCircuit(2)\n",
    " \n",
    "# Add a Hadamard gate to qubit 0\n",
    "qc.h(0)\n",
    " \n",
    "# Perform a controlled-X gate on qubit 1, controlled by qubit 0\n",
    "qc.cx(0, 1)\n",
    " \n",
    "# Return a drawing of the circuit using MatPlotLib (\"mpl\"). This is the\n",
    "# last line of the cell, so the drawing appears in the cell output.\n",
    "# Remove the \"mpl\" argument to get a text drawing.\n",
    "qc.draw(\"mpl\",style=\"iqp\")\n",
    "from qiskit.quantum_info import Pauli\n",
    " \n",
    "ZZ = Pauli('ZZ')\n",
    "ZI = Pauli('ZI')\n",
    "IZ = Pauli('IZ')\n",
    "XX = Pauli('XX')\n",
    "XI = Pauli('XI')\n",
    "IX = Pauli('IX')"
   ]
  },
  {
   "cell_type": "code",
   "execution_count": 3,
   "id": "c7aad4ab-b861-4677-b4b1-439b205a88f5",
   "metadata": {},
   "outputs": [
    {
     "name": "stderr",
     "output_type": "stream",
     "text": [
      "runtime_job._start_websocket_client:WARNING:2023-11-30 15:56:24,680: An error occurred while streaming results from the server for job cnm37ad7aw9g008gjshg:\n",
      "Traceback (most recent call last):\n",
      "  File \"/home/oem/.local/lib/python3.8/site-packages/qiskit_ibm_runtime/runtime_job.py\", line 531, in _start_websocket_client\n",
      "    self._ws_client.job_results()\n",
      "  File \"/home/oem/.local/lib/python3.8/site-packages/qiskit_ibm_provider/api/clients/runtime_ws.py\", line 70, in job_results\n",
      "    self.stream(url=url, retries=max_retries, backoff_factor=backoff_factor)\n",
      "  File \"/home/oem/.local/lib/python3.8/site-packages/qiskit_ibm_provider/api/clients/base.py\", line 230, in stream\n",
      "    raise WebsocketError(error_message)\n",
      "qiskit_ibm_provider.api.exceptions.WebsocketError: 'Max retries exceeded: Failed to establish a websocket connection. Error: Traceback (most recent call last):\\n  File \"/home/oem/.local/lib/python3.8/site-packages/websocket/_app.py\", line 434, in setSock\\n    dispatcher.read(self.sock.sock, read, check)\\n  File \"/home/oem/.local/lib/python3.8/site-packages/websocket/_app.py\", line 99, in read\\n    if not read_callback():\\n  File \"/home/oem/.local/lib/python3.8/site-packages/websocket/_app.py\", line 448, in read\\n    raise e\\n  File \"/home/oem/.local/lib/python3.8/site-packages/websocket/_app.py\", line 443, in read\\n    op_code, frame = self.sock.recv_data_frame(True)\\n  File \"/home/oem/.local/lib/python3.8/site-packages/websocket/_core.py\", line 408, in recv_data_frame\\n    frame = self.recv_frame()\\n  File \"/home/oem/.local/lib/python3.8/site-packages/websocket/_core.py\", line 447, in recv_frame\\n    return self.frame_buffer.recv_frame()\\n  File \"/home/oem/.local/lib/python3.8/site-packages/websocket/_abnf.py\", line 340, in recv_frame\\n    self.recv_header()\\n  File \"/home/oem/.local/lib/python3.8/site-packages/websocket/_abnf.py\", line 296, in recv_header\\n    header = self.recv_strict(2)\\n  File \"/home/oem/.local/lib/python3.8/site-packages/websocket/_abnf.py\", line 375, in recv_strict\\n    bytes_ = self.recv(min(16384, shortage))\\n  File \"/home/oem/.local/lib/python3.8/site-packages/websocket/_core.py\", line 531, in _recv\\n    return recv(self.sock, bufsize)\\n  File \"/home/oem/.local/lib/python3.8/site-packages/websocket/_socket.py\", line 124, in recv\\n    raise WebSocketConnectionClosedException(\\nwebsocket._exceptions.WebSocketConnectionClosedException: Connection to remote host was lost.\\n'\n",
      "\n"
     ]
    },
    {
     "data": {
      "text/plain": [
       "EstimatorResult(values=array([ 0.0131842 ,  0.02354322, -0.00878037,  0.09307191,  1.21104885,\n",
       "        1.05564329]), metadata=[{'variance': 5.560408298673796, 'shots': 5008, 'readout_mitigation_num_twirled_circuits': 16, 'readout_mitigation_shots_calibration': 8192, 'warning': 'Optimization level clipped from 3 to 1'}, {'variance': 5.560027838762645, 'shots': 5008, 'readout_mitigation_num_twirled_circuits': 16, 'readout_mitigation_shots_calibration': 8192, 'warning': 'Optimization level clipped from 3 to 1'}, {'variance': 4.833784219428105, 'shots': 5008, 'readout_mitigation_num_twirled_circuits': 16, 'readout_mitigation_shots_calibration': 8192, 'warning': 'Optimization level clipped from 3 to 1'}, {'variance': 4.82519893358575, 'shots': 5008, 'readout_mitigation_num_twirled_circuits': 16, 'readout_mitigation_shots_calibration': 8192, 'warning': 'Optimization level clipped from 3 to 1'}, {'variance': 0.9369168238969159, 'shots': 5008, 'readout_mitigation_num_twirled_circuits': 16, 'readout_mitigation_shots_calibration': 8192, 'warning': 'Optimization level clipped from 3 to 1'}, {'variance': 1.2891733685124516, 'shots': 5008, 'readout_mitigation_num_twirled_circuits': 16, 'readout_mitigation_shots_calibration': 8192, 'warning': 'Optimization level clipped from 3 to 1'}])"
      ]
     },
     "execution_count": 3,
     "metadata": {},
     "output_type": "execute_result"
    }
   ],
   "source": [
    "from qiskit_ibm_runtime import QiskitRuntimeService, Estimator, Options\n",
    " \n",
    "service = QiskitRuntimeService()\n",
    " \n",
    "# Run on the least-busy backend you have access to\n",
    "backend = service.least_busy(simulator=False, operational=True)\n",
    " \n",
    "options = Options()\n",
    "options.resilience_level = 1\n",
    "options.optimization_level = 3\n",
    " \n",
    "# Create an Estimator object\n",
    "estimator = Estimator(backend, options=options)\n",
    " \n",
    "# Submit the circuit to Estimator\n",
    "job = estimator.run(circuits=[qc]*6, observables=[IZ, IX, ZI, XI, ZZ, XX], shots = 5000)\n",
    " \n",
    "# Once the job is complete, get the result\n",
    "job.result()"
   ]
  },
  {
   "cell_type": "code",
   "execution_count": 5,
   "id": "05120082-064b-4107-b681-36d89cd5b03a",
   "metadata": {},
   "outputs": [
    {
     "data": {
      "image/png": "[encoded data removed]",
      "text/plain": [
       "<Figure size 640x480 with 1 Axes>"
      ]
     },
     "metadata": {},
     "output_type": "display_data"
    },
    {
     "name": "stdout",
     "output_type": "stream",
     "text": [
      "{'quantum_seconds': 26.468321087779735}\n"
     ]
    }
   ],
   "source": [
    "import matplotlib.pyplot as plt\n",
    "import numpy as np\n",
    " \n",
    "# data\n",
    "data = ['IZ', 'IX', 'ZI', 'XI', 'ZZ', 'XX']\n",
    "values = job.result().values\n",
    " \n",
    "# creating error bars\n",
    "error = []\n",
    "for case in job.result().metadata:\n",
    "    error.append(2*np.sqrt(case['variance']/case['shots']))\n",
    " \n",
    "# plotting graph\n",
    "plt.plot(data, values)\n",
    "plt.errorbar(data, values, yerr = error, fmt ='o')\n",
    "plt.xlabel('Observables')\n",
    "plt.ylabel('Values')\n",
    "plt.show()\n",
    "print(job.usage_estimation)"
   ]
  },
  {
   "cell_type": "code",
   "execution_count": null,
   "id": "fb011653-f4c2-4d33-9454-1c8437406983",
   "metadata": {},
   "outputs": [],
   "source": []
  }
 ],
 "metadata": {
  "kernelspec": {
   "display_name": "Python 3 (ipykernel)",
   "language": "python",
   "name": "python3"
  },
  "language_info": {
   "codemirror_mode": {
    "name": "ipython",
    "version": 3
   },
   "file_extension": ".py",
   "mimetype": "text/x-python",
   "name": "python",
   "nbconvert_exporter": "python",
   "pygments_lexer": "ipython3",
   "version": "3.8.10"
  }
 },
 "nbformat": 4,
 "nbformat_minor": 5
}
